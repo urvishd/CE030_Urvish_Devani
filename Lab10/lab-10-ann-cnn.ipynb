{
  "nbformat": 4,
  "nbformat_minor": 2,
  "metadata": {
    "kernelspec": {
      "name": "python3",
      "display_name": "Python 3.8.3 64-bit"
    },
    "language_info": {
      "name": "python",
      "version": "3.8.3",
      "mimetype": "text/x-python",
      "codemirror_mode": {
        "name": "ipython",
        "version": 3
      },
      "pygments_lexer": "ipython3",
      "nbconvert_exporter": "python",
      "file_extension": ".py"
    },
    "colab": {
      "name": "lab-10-ann-cnn.ipynb",
      "provenance": []
    },
    "interpreter": {
      "hash": "2db524e06e9f5f4ffedc911c917cb75e12dbc923643829bf417064a77eb14d37"
    }
  },
  "cells": [
    {
      "cell_type": "code",
      "execution_count": 1,
      "source": [
        "# Import Libraries\r\n",
        "import matplotlib.pyplot as plt\r\n",
        "import numpy as np\r\n",
        "import pandas as pd\r\n",
        "\r\n",
        "import torch\r\n",
        "import torch.nn as nn\r\n",
        "from torch.autograd import Variable\r\n",
        "from torch.utils.data import DataLoader\r\n",
        "\r\n",
        "\r\n",
        "from sklearn.model_selection import train_test_split"
      ],
      "outputs": [],
      "metadata": {
        "_cell_guid": "a0bf0fa7-c527-4fd3-b504-02a88fc94798",
        "_uuid": "1382c63fe24710d3b2840e7dcf172cddbf533743",
        "id": "JleJ3lvzGip6",
        "execution": {
          "iopub.status.busy": "2021-10-06T06:18:34.669007Z",
          "iopub.execute_input": "2021-10-06T06:18:34.669368Z",
          "iopub.status.idle": "2021-10-06T06:18:36.712100Z",
          "shell.execute_reply.started": "2021-10-06T06:18:34.669279Z",
          "shell.execute_reply": "2021-10-06T06:18:36.709537Z"
        },
        "trusted": true
      }
    },
    {
      "cell_type": "code",
      "execution_count": 2,
      "source": [
        "from tensorflow.keras.datasets import mnist\r\n",
        "\r\n",
        "\r\n",
        "(features_train, targets_train), (features_test, targets_test) = mnist.load_data()\r\n",
        "\r\n",
        "# Convert to float32.\r\n",
        "\r\n",
        "features_train, features_test = np.array(features_train, np.float32), np.array(features_test, np.float32)\r\n",
        "\r\n",
        "# Flatten images to 1-D vector of 784 features (28*28).\r\n",
        "num_features=784\r\n",
        "\r\n",
        "features_train, features_test = features_train.reshape([-1, num_features]), features_test.reshape([-1, num_features])\r\n",
        "\r\n",
        "# Normalize images value from [0, 255] to [0, 1].\r\n",
        "\r\n",
        "features_train, features_test = features_train / 255., features_test / 255\r\n",
        "\r\n",
        "# create feature and targets tensor for train set. As you remember we need variable to accumulate gradients. \r\n",
        "#Therefore first we create tensor, then we will create variable\r\n",
        "featuresTrain = torch.from_numpy(features_train)\r\n",
        "targetsTrain = torch.from_numpy(targets_train).type(torch.LongTensor) # data type is long\r\n",
        "\r\n",
        "# create feature and targets tensor for test set.\r\n",
        "featuresTest = torch.from_numpy(features_test)\r\n",
        "targetsTest = torch.from_numpy(targets_test).type(torch.LongTensor) # data type is long\r\n",
        "\r\n",
        "# batch_size, epoch and iteration\r\n",
        "batch_size = 100\r\n",
        "n_iters = 5000\r\n",
        "num_epochs = n_iters / (len(features_train) / batch_size)\r\n",
        "num_epochs = int(num_epochs)\r\n",
        "\r\n",
        "# Pytorch train and test sets\r\n",
        "train = torch.utils.data.TensorDataset(featuresTrain,targetsTrain)\r\n",
        "test = torch.utils.data.TensorDataset(featuresTest,targetsTest)\r\n",
        "\r\n",
        "# data loader\r\n",
        "train_loader = DataLoader(train, batch_size = batch_size, shuffle = False)\r\n",
        "test_loader = DataLoader(test, batch_size = batch_size, shuffle = False)\r\n",
        "\r\n",
        "# visualize one of the images in data set\r\n",
        "plt.imshow(featuresTrain[10].reshape(28,28))\r\n",
        "plt.axis(\"off\")\r\n",
        "plt.title(str(targetsTrain[10]))\r\n",
        "plt.savefig('graph.png')\r\n",
        "plt.show()\r\n",
        "\r\n"
      ],
      "outputs": [
        {
          "output_type": "display_data",
          "data": {
            "image/png": "[encoded data removed]",
            "text/plain": [
              "<Figure size 432x288 with 1 Axes>"
            ]
          },
          "metadata": {
            "needs_background": "light"
          }
        }
      ],
      "metadata": {
        "id": "sO1OgzmSO0cN",
        "execution": {
          "iopub.status.busy": "2021-10-06T06:18:36.713754Z",
          "iopub.execute_input": "2021-10-06T06:18:36.714117Z",
          "iopub.status.idle": "2021-10-06T06:19:02.080293Z",
          "shell.execute_reply.started": "2021-10-06T06:18:36.714080Z",
          "shell.execute_reply": "2021-10-06T06:19:02.078616Z"
        },
        "trusted": true,
        "colab": {
          "base_uri": "https://localhost:8080/",
          "height": 264
        },
        "outputId": "016e144e-b533-447d-86de-1c1a3e473f3a"
      }
    },
    {
      "cell_type": "code",
      "execution_count": 3,
      "source": [
        "# Create ANN Model\r\n",
        "class ANNModel(nn.Module):\r\n",
        "\r\n",
        "    def __init__(self, input_dim, hidden_dim, output_dim):\r\n",
        "        super(ANNModel, self).__init__()\r\n",
        "        #########################################\r\n",
        "        self.layer1 = nn.Linear(input_dim, hidden_dim)\r\n",
        "        self.layer2 = nn.Linear(hidden_dim, hidden_dim)\r\n",
        "        self.layer3 = nn.Linear(hidden_dim, output_dim)\r\n",
        "        self.relu = nn.ReLU()\r\n",
        "\r\n",
        "    def forward(self, x):\r\n",
        "        ######################################\r\n",
        "        return self.layer3(self.relu(self.layer2(self.relu(self.layer1(x)))))\r\n",
        "\r\n",
        "\r\n",
        "# instantiate ANN\r\n",
        "input_dim = 28 * 28\r\n",
        "hidden_dim = 150  #hidden layer dim is one of the hyper parameter and it should be chosen and tuned. For now I only say 150 there is no reason.\r\n",
        "output_dim = 10\r\n",
        "\r\n",
        "# Create ANN\r\n",
        "model = ANNModel(input_dim, hidden_dim, output_dim)\r\n",
        "\r\n",
        "# Cross Entropy Loss \r\n",
        "error = nn.CrossEntropyLoss()\r\n",
        "\r\n",
        "# SGD Optimizer\r\n",
        "learning_rate = 0.02\r\n",
        "optimizer = torch.optim.SGD(model.parameters(), lr=learning_rate)"
      ],
      "outputs": [],
      "metadata": {
        "_cell_guid": "3472f1c1-5888-4abe-822c-3a493a5f8be5",
        "_uuid": "cefd0bb2f23b80f30ca65cbb08859ad81ab12e08",
        "id": "wy2W0meBGis6",
        "execution": {
          "iopub.status.busy": "2021-10-06T06:19:02.081471Z",
          "iopub.status.idle": "2021-10-06T06:19:02.081810Z",
          "shell.execute_reply.started": "2021-10-06T06:19:02.081636Z",
          "shell.execute_reply": "2021-10-06T06:19:02.081653Z"
        },
        "trusted": true
      }
    },
    {
      "cell_type": "code",
      "execution_count": 4,
      "source": [
        "# ANN model training\r\n",
        "count = 0\r\n",
        "loss_list = []\r\n",
        "iteration_list = []\r\n",
        "accuracy_list = []\r\n",
        "for epoch in range(num_epochs):\r\n",
        "    for i, (images, labels) in enumerate(train_loader):\r\n",
        "\r\n",
        "        train = Variable(images.view(-1, 28*28))\r\n",
        "        labels = Variable(labels)\r\n",
        "        \r\n",
        "        # Clear gradients\r\n",
        "        optimizer.zero_grad()\r\n",
        "        \r\n",
        "        # Forward propagation\r\n",
        "        outputs = model(train)\r\n",
        "        \r\n",
        "        # Calculate softmax and ross entropy loss\r\n",
        "        loss = error(outputs, labels)\r\n",
        "        \r\n",
        "        # Calculating gradients\r\n",
        "        loss.backward()\r\n",
        "        \r\n",
        "        # Update parameters\r\n",
        "        optimizer.step()\r\n",
        "        \r\n",
        "        count += 1\r\n",
        "        \r\n",
        "        if count % 50 == 0:\r\n",
        "            # Calculate Accuracy         \r\n",
        "            correct = 0\r\n",
        "            total = 0\r\n",
        "            # Predict test dataset\r\n",
        "            for images, labels in test_loader:\r\n",
        "\r\n",
        "                test = Variable(images.view(-1, 28*28))\r\n",
        "                \r\n",
        "                # Forward propagation\r\n",
        "                outputs = model(test)\r\n",
        "                \r\n",
        "                # Get predictions from the maximum value\r\n",
        "                predicted = torch.max(outputs.data, 1)[1]\r\n",
        "                \r\n",
        "                # Total number of labels\r\n",
        "                total += len(labels)\r\n",
        "\r\n",
        "                # Total correct predictions\r\n",
        "                correct += (predicted == labels).sum()\r\n",
        "            \r\n",
        "            accuracy = 100 * correct / float(total)\r\n",
        "            \r\n",
        "            # store loss and iteration\r\n",
        "            loss_list.append(loss.data)\r\n",
        "            iteration_list.append(count)\r\n",
        "            accuracy_list.append(accuracy)\r\n",
        "        if count % 500 == 0:\r\n",
        "            # Print Loss\r\n",
        "            print('Iteration: {}  Loss: {}  Accuracy: {} %'.format(count, loss.data, accuracy))"
      ],
      "outputs": [
        {
          "output_type": "stream",
          "name": "stdout",
          "text": [
            "Iteration: 500  Loss: 0.7609801292419434  Accuracy: 82.80000305175781 %\n",
            "Iteration: 1000  Loss: 0.5077613592147827  Accuracy: 88.7699966430664 %\n",
            "Iteration: 1500  Loss: 0.5652374029159546  Accuracy: 90.13999938964844 %\n",
            "Iteration: 2000  Loss: 0.2967921495437622  Accuracy: 90.97000122070312 %\n",
            "Iteration: 2500  Loss: 0.1980258822441101  Accuracy: 91.94000244140625 %\n",
            "Iteration: 3000  Loss: 0.3328377902507782  Accuracy: 92.26000213623047 %\n",
            "Iteration: 3500  Loss: 0.2558245062828064  Accuracy: 92.87999725341797 %\n",
            "Iteration: 4000  Loss: 0.27457281947135925  Accuracy: 93.33999633789062 %\n",
            "Iteration: 4500  Loss: 0.4076419472694397  Accuracy: 93.55000305175781 %\n"
          ]
        }
      ],
      "metadata": {
        "_cell_guid": "7550e98b-5011-4d09-88ee-97b0ecbc6f19",
        "_uuid": "c91694f3af94e4e1b76ab01489e186718c70ccd3",
        "id": "-nFSRfE4GitJ",
        "execution": {
          "iopub.status.busy": "2021-10-06T06:19:02.082732Z",
          "iopub.status.idle": "2021-10-06T06:19:02.083038Z",
          "shell.execute_reply.started": "2021-10-06T06:19:02.082880Z",
          "shell.execute_reply": "2021-10-06T06:19:02.082894Z"
        },
        "trusted": true,
        "colab": {
          "base_uri": "https://localhost:8080/"
        },
        "outputId": "6a322034-e4ca-4d57-b21a-a4f6a29597f4"
      }
    },
    {
      "cell_type": "code",
      "execution_count": 5,
      "source": [
        "# visualization loss \r\n",
        "plt.plot(iteration_list,loss_list)\r\n",
        "plt.xlabel(\"Number of iteration\")\r\n",
        "plt.ylabel(\"Loss\")\r\n",
        "plt.title(\"ANN: Loss vs Number of iteration\")\r\n",
        "plt.show()\r\n",
        "\r\n",
        "# visualization accuracy \r\n",
        "plt.plot(iteration_list,accuracy_list,color = \"red\")\r\n",
        "plt.xlabel(\"Number of iteration\")\r\n",
        "plt.ylabel(\"Accuracy\")\r\n",
        "plt.title(\"ANN: Accuracy vs Number of iteration\")\r\n",
        "plt.show()"
      ],
      "outputs": [
        {
          "output_type": "display_data",
          "data": {
            "image/png": "[encoded data removed]",
            "text/plain": [
              "<Figure size 432x288 with 1 Axes>"
            ]
          },
          "metadata": {
            "needs_background": "light"
          }
        },
        {
          "output_type": "display_data",
          "data": {
            "image/png": "[encoded data removed]",
            "text/plain": [
              "<Figure size 432x288 with 1 Axes>"
            ]
          },
          "metadata": {
            "needs_background": "light"
          }
        }
      ],
      "metadata": {
        "_cell_guid": "5579a7d6-7766-4d0f-b9d0-584cb4f28321",
        "_uuid": "c5e2e6da7f1ee801e38358dc28d4c99e32d2b761",
        "id": "WhnlGGNNGitc",
        "execution": {
          "iopub.status.busy": "2021-10-06T06:19:02.089211Z",
          "iopub.status.idle": "2021-10-06T06:19:02.089550Z",
          "shell.execute_reply.started": "2021-10-06T06:19:02.089360Z",
          "shell.execute_reply": "2021-10-06T06:19:02.089376Z"
        },
        "trusted": true,
        "colab": {
          "base_uri": "https://localhost:8080/",
          "height": 573
        },
        "outputId": "a6452972-b067-48aa-9d64-7dbfb2a677f4"
      }
    },
    {
      "cell_type": "code",
      "execution_count": 6,
      "source": [
        "# Create CNN Model\r\n",
        "class CNNModel(nn.Module):\r\n",
        "    def __init__(self):\r\n",
        "        super(CNNModel, self).__init__()\r\n",
        "        ######################################################################\r\n",
        "        #### DESIGN LAYERS :\r\n",
        "        ### SEQUENCE: CONV1,ACTIVATION1,POOLING1,  CONV2,ACTIVATION2,POOLING2, LINEAR(FC)\r\n",
        "        self.layer1 = nn.Conv2d(1, 2, 5)\r\n",
        "        self.relu = nn.ReLU()\r\n",
        "        self.pool1 = nn.MaxPool2d(2)\r\n",
        "        self.layer2 = nn.Conv2d(2, 4, 5)\r\n",
        "        self.pool2 = nn.MaxPool2d(4)\r\n",
        "        self.layer3 = nn.Linear(4 * 2 * 2, 10)\r\n",
        "\r\n",
        "    def forward(self, x):\r\n",
        "        # COMBINE LAYERS\r\n",
        "        ## 1) CONV1\r\n",
        "        out = self.layer1(x)\r\n",
        "        ## 2) ACTIVATION1\r\n",
        "        out = self.relu(out)\r\n",
        "        ## 3) POOLING1\r\n",
        "        out = self.pool1(out)\r\n",
        "        ## 4) CONV2\r\n",
        "        out = self.layer2(out)\r\n",
        "        ## 5) ACTIVATION2\r\n",
        "        out = self.relu(out)\r\n",
        "        ## 6) POOLING2\r\n",
        "        out = self.pool2(out)\r\n",
        "        ## 7) flatten ########## DURING LAB WE JUST FORGOT FOLLOWING FLATTEN LAYER ###############\r\n",
        "        out = out.view(out.size(0), -1)\r\n",
        "        ## 8) LINEAR(FC)\r\n",
        "        return self.layer3(out)\r\n",
        "\r\n",
        "\r\n",
        "# batch_size, epoch and iteration\r\n",
        "batch_size = 100\r\n",
        "n_iters = 2500\r\n",
        "num_epochs = n_iters / (len(features_train) / batch_size)\r\n",
        "num_epochs = int(num_epochs)\r\n",
        "\r\n",
        "# Pytorch train and test sets\r\n",
        "train = torch.utils.data.TensorDataset(featuresTrain, targetsTrain)\r\n",
        "test = torch.utils.data.TensorDataset(featuresTest, targetsTest)\r\n",
        "\r\n",
        "# data loader\r\n",
        "train_loader = torch.utils.data.DataLoader(train, batch_size=batch_size, shuffle=False)\r\n",
        "test_loader = torch.utils.data.DataLoader(test, batch_size=batch_size, shuffle=False)\r\n",
        "\r\n",
        "# Create CNN\r\n",
        "model = CNNModel()\r\n",
        "\r\n",
        "# Cross Entropy Loss \r\n",
        "error =  nn.CrossEntropyLoss()\r\n",
        "\r\n",
        "# SGD Optimizer\r\n",
        "learning_rate = 0.1\r\n",
        "optimizer = torch.optim.SGD(model.parameters(), lr=learning_rate)"
      ],
      "outputs": [],
      "metadata": {
        "id": "xSPdXTvy9QHL",
        "execution": {
          "iopub.status.busy": "2021-10-06T06:19:02.090806Z",
          "iopub.status.idle": "2021-10-06T06:19:02.091120Z",
          "shell.execute_reply.started": "2021-10-06T06:19:02.090955Z",
          "shell.execute_reply": "2021-10-06T06:19:02.090970Z"
        },
        "trusted": true
      }
    },
    {
      "cell_type": "code",
      "execution_count": 7,
      "source": [
        "# CNN model training\r\n",
        "count = 0\r\n",
        "loss_list = []\r\n",
        "iteration_list = []\r\n",
        "accuracy_list = []\r\n",
        "for epoch in range(num_epochs):\r\n",
        "    for i, (images, labels) in enumerate(train_loader):\r\n",
        "\r\n",
        "        train = Variable(images.view(100, 1, 28, 28))\r\n",
        "        labels = Variable(labels)\r\n",
        "\r\n",
        "        # Clear gradients\r\n",
        "        optimizer.zero_grad()\r\n",
        "\r\n",
        "        # Forward propagation\r\n",
        "        outputs = model(train)\r\n",
        "\r\n",
        "        # Calculate softmax and ross entropy loss\r\n",
        "        loss = error(outputs, labels)\r\n",
        "\r\n",
        "        # Calculating gradients\r\n",
        "        loss.backward()\r\n",
        "\r\n",
        "        # Update parameters\r\n",
        "        optimizer.step()\r\n",
        "\r\n",
        "        count += 1\r\n",
        "\r\n",
        "        if count % 50 == 0:\r\n",
        "            # Calculate Accuracy         \r\n",
        "            correct = 0\r\n",
        "            total = 0\r\n",
        "            # Iterate through test dataset\r\n",
        "            for images, labels in test_loader:\r\n",
        "                test = Variable(images.view(100, 1, 28, 28))\r\n",
        "\r\n",
        "                # Forward propagation\r\n",
        "                outputs = model(test)\r\n",
        "\r\n",
        "                # Get predictions from the maximum value\r\n",
        "                predicted = torch.max(outputs.data, 1)[1]\r\n",
        "\r\n",
        "                # Total number of labels\r\n",
        "                total += len(labels)\r\n",
        "\r\n",
        "                correct += (predicted == labels).sum()\r\n",
        "\r\n",
        "            accuracy = 100 * correct / float(total)\r\n",
        "\r\n",
        "            # store loss and iteration\r\n",
        "            loss_list.append(loss.data)\r\n",
        "            iteration_list.append(count)\r\n",
        "            accuracy_list.append(accuracy)\r\n",
        "            if count % 500 == 0:\r\n",
        "                # Print Loss\r\n",
        "                print('Iteration: {}  Loss: {}  Accuracy: {} %'.format(count, loss.data, accuracy))"
      ],
      "outputs": [
        {
          "output_type": "stream",
          "name": "stderr",
          "text": [
            "C:\\Python38\\lib\\site-packages\\torch\\nn\\functional.py:718: UserWarning: Named tensors and all their associated APIs are an experimental feature and subject to change. Please do not use them for anything important until they are released as stable. (Triggered internally at  ..\\c10/core/TensorImpl.h:1156.)\n",
            "  return torch.max_pool2d(input, kernel_size, stride, padding, dilation, ceil_mode)\n"
          ]
        },
        {
          "output_type": "stream",
          "name": "stdout",
          "text": [
            "Iteration: 500  Loss: 0.5000675320625305  Accuracy: 85.97000122070312 %\n",
            "Iteration: 1000  Loss: 0.4399327337741852  Accuracy: 88.01000213623047 %\n",
            "Iteration: 1500  Loss: 0.3404169976711273  Accuracy: 89.75 %\n",
            "Iteration: 2000  Loss: 0.1631615310907364  Accuracy: 92.51000213623047 %\n"
          ]
        }
      ],
      "metadata": {
        "id": "FHHjyUcC9TRa",
        "execution": {
          "iopub.status.busy": "2021-10-06T06:19:02.092377Z",
          "iopub.status.idle": "2021-10-06T06:19:02.092719Z",
          "shell.execute_reply.started": "2021-10-06T06:19:02.092557Z",
          "shell.execute_reply": "2021-10-06T06:19:02.092573Z"
        },
        "trusted": true,
        "colab": {
          "base_uri": "https://localhost:8080/"
        },
        "outputId": "28cf2274-0373-400a-beec-e47983ddfbbc"
      }
    },
    {
      "cell_type": "code",
      "execution_count": 8,
      "source": [
        "# visualization loss \r\n",
        "plt.plot(iteration_list,loss_list)\r\n",
        "plt.xlabel(\"Number of iteration\")\r\n",
        "plt.ylabel(\"Loss\")\r\n",
        "plt.title(\"CNN: Loss vs Number of iteration\")\r\n",
        "plt.show()\r\n",
        "\r\n",
        "# visualization accuracy \r\n",
        "plt.plot(iteration_list,accuracy_list,color = \"red\")\r\n",
        "plt.xlabel(\"Number of iteration\")\r\n",
        "plt.ylabel(\"Accuracy\")\r\n",
        "plt.title(\"CNN: Accuracy vs Number of iteration\")\r\n",
        "plt.show()"
      ],
      "outputs": [
        {
          "output_type": "display_data",
          "data": {
            "image/png": "[encoded data removed]",
            "text/plain": [
              "<Figure size 432x288 with 1 Axes>"
            ]
          },
          "metadata": {
            "needs_background": "light"
          }
        },
        {
          "output_type": "display_data",
          "data": {
            "image/png": "[encoded data removed]",
            "text/plain": [
              "<Figure size 432x288 with 1 Axes>"
            ]
          },
          "metadata": {
            "needs_background": "light"
          }
        }
      ],
      "metadata": {
        "id": "JI7FgspY9WnN",
        "execution": {
          "iopub.status.busy": "2021-10-06T06:19:02.093651Z",
          "iopub.status.idle": "2021-10-06T06:19:02.093979Z",
          "shell.execute_reply.started": "2021-10-06T06:19:02.093817Z",
          "shell.execute_reply": "2021-10-06T06:19:02.093833Z"
        },
        "trusted": true,
        "colab": {
          "base_uri": "https://localhost:8080/",
          "height": 573
        },
        "outputId": "964d2c5c-4bfe-4b34-8e63-10ef8f30e972"
      }
    },
    {
      "cell_type": "markdown",
      "source": [
        "Try CNN on \"Fruit\" dataset. Also modify number of layers and observe the performance difference: \r\n",
        "\r\n",
        "https://www.kaggle.com/moltean/fruits\r\n",
        "\r\n",
        "\r\n",
        "Or (In a case if you don't have that much dataPack available, download 20 images of apple and 20 images of orange from the internet and work on it with RANDOM state=Rollnumber stratergy, 80-20% training-testing division)\r\n",
        "\r\n",
        "\r\n",
        "\r\n",
        "\r\n",
        "\r\n"
      ],
      "metadata": {
        "id": "tCuk3R3y5kx9"
      }
    }
  ]
}