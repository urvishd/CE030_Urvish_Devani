{
  "nbformat": 4,
  "nbformat_minor": 2,
  "metadata": {
    "kernelspec": {
      "name": "python3",
      "display_name": "Python 3.8.3 64-bit"
    },
    "language_info": {
      "name": "python",
      "version": "3.8.3",
      "mimetype": "text/x-python",
      "codemirror_mode": {
        "name": "ipython",
        "version": 3
      },
      "pygments_lexer": "ipython3",
      "nbconvert_exporter": "python",
      "file_extension": ".py"
    },
    "colab": {
      "name": "lab-09-svm-mnist.ipynb",
      "provenance": []
    },
    "interpreter": {
      "hash": "2db524e06e9f5f4ffedc911c917cb75e12dbc923643829bf417064a77eb14d37"
    }
  },
  "cells": [
    {
      "cell_type": "code",
      "execution_count": 1,
      "source": [
        "import matplotlib.pyplot as plt\r\n",
        "from sklearn import svm\r\n",
        "from sklearn.model_selection import train_test_split\r\n",
        "import numpy as np"
      ],
      "outputs": [],
      "metadata": {
        "_uuid": "8f2839f25d086af736a60e9eeb907d3b93b6e0e5",
        "_cell_guid": "b1076dfc-b9ad-4769-8c92-a6c4dae69d19",
        "execution": {
          "iopub.status.busy": "2021-10-04T07:47:04.788667Z",
          "iopub.execute_input": "2021-10-04T07:47:04.789762Z",
          "iopub.status.idle": "2021-10-04T07:47:06.146250Z",
          "shell.execute_reply.started": "2021-10-04T07:47:04.789606Z",
          "shell.execute_reply": "2021-10-04T07:47:06.145391Z"
        },
        "trusted": true,
        "id": "6h203IKTRljb"
      }
    },
    {
      "cell_type": "code",
      "execution_count": 2,
      "source": [
        "from tensorflow.keras.datasets import mnist\r\n",
        "(x_train, y_train), (x_test, y_test) = mnist.load_data()\r\n",
        "\r\n",
        "y_train = y_train[:4000]\r\n",
        "y_test = y_test[:1000]\r\n",
        "\r\n",
        "# Convert to float32.\r\n",
        "x_train, x_test = np.array(x_train[:4000], np.float32), np.array(x_test[:1000], np.float32)\r\n",
        "\r\n",
        "# Flatten images to 1-D vector of 784 features (28*28).\r\n",
        "num_features = 784\r\n",
        "x_train, x_test = x_train.reshape([-1, num_features]), x_test.reshape([-1, num_features])\r\n",
        "\r\n",
        "# Normalize images value from [0, 255] to [0, 1].\r\n",
        "x_train, x_test = x_train / 255., x_test / 255."
      ],
      "outputs": [
        {
          "output_type": "stream",
          "name": "stdout",
          "text": [
            "Downloading data from https://storage.googleapis.com/tensorflow/tf-keras-datasets/mnist.npz\n",
            "11493376/11490434 [==============================] - 16s 1us/step\n",
            "11501568/11490434 [==============================] - 16s 1us/step\n"
          ]
        }
      ],
      "metadata": {
        "execution": {
          "iopub.status.busy": "2021-10-04T07:47:06.147777Z",
          "iopub.execute_input": "2021-10-04T07:47:06.148527Z",
          "iopub.status.idle": "2021-10-04T07:47:33.926479Z",
          "shell.execute_reply.started": "2021-10-04T07:47:06.148486Z",
          "shell.execute_reply": "2021-10-04T07:47:33.924354Z"
        },
        "trusted": true,
        "colab": {
          "base_uri": "https://localhost:8080/"
        },
        "id": "kI8_lNZpRljq",
        "outputId": "b0a96019-0a34-446b-8475-402c7a81813f"
      }
    },
    {
      "cell_type": "code",
      "execution_count": 3,
      "source": [
        "modelLinear = svm.SVC(kernel='linear')\r\n",
        "modelPolynomial = svm.SVC(kernel='poly')\r\n",
        "modelRBF = svm.SVC(kernel='rbf')"
      ],
      "outputs": [],
      "metadata": {
        "execution": {
          "iopub.status.busy": "2021-10-04T07:47:33.927872Z",
          "iopub.status.idle": "2021-10-04T07:47:33.928805Z",
          "shell.execute_reply.started": "2021-10-04T07:47:33.928387Z",
          "shell.execute_reply": "2021-10-04T07:47:33.928418Z"
        },
        "trusted": true,
        "id": "k8s4B0eJRljr"
      }
    },
    {
      "cell_type": "code",
      "execution_count": 4,
      "source": [
        "modelLinear.fit(x_train, y_train)\r\n",
        "modelPolynomial.fit(x_train, y_train)\r\n",
        "modelRBF.fit(x_train, y_train)"
      ],
      "outputs": [
        {
          "output_type": "execute_result",
          "data": {
            "text/plain": [
              "SVC()"
            ]
          },
          "metadata": {},
          "execution_count": 4
        }
      ],
      "metadata": {
        "execution": {
          "iopub.status.busy": "2021-10-04T07:47:33.931041Z",
          "iopub.status.idle": "2021-10-04T07:47:33.932575Z",
          "shell.execute_reply.started": "2021-10-04T07:47:33.932257Z",
          "shell.execute_reply": "2021-10-04T07:47:33.932289Z"
        },
        "trusted": true,
        "colab": {
          "base_uri": "https://localhost:8080/"
        },
        "id": "nlmzdui6Rljs",
        "outputId": "9cd7c2d8-e7fa-41f1-fa9a-db2ceb9925c1"
      }
    },
    {
      "cell_type": "code",
      "execution_count": 5,
      "source": [
        "#Import scikit-learn metrics module for accuracy calculation\r\n",
        "from sklearn import metrics"
      ],
      "outputs": [],
      "metadata": {
        "execution": {
          "iopub.status.busy": "2021-10-04T07:47:33.933587Z",
          "iopub.status.idle": "2021-10-04T07:47:33.934839Z",
          "shell.execute_reply.started": "2021-10-04T07:47:33.934605Z",
          "shell.execute_reply": "2021-10-04T07:47:33.934635Z"
        },
        "trusted": true,
        "id": "5rMvQ0gMRljs"
      }
    },
    {
      "cell_type": "code",
      "execution_count": 6,
      "source": [
        "y_pred = modelLinear.predict(x_test)\r\n",
        "print(\"Accuracy:\",metrics.accuracy_score(y_test, y_pred))"
      ],
      "outputs": [
        {
          "output_type": "stream",
          "name": "stdout",
          "text": [
            "Accuracy: 0.901\n"
          ]
        }
      ],
      "metadata": {
        "execution": {
          "iopub.status.busy": "2021-10-04T07:47:33.936288Z",
          "iopub.status.idle": "2021-10-04T07:47:33.936708Z",
          "shell.execute_reply.started": "2021-10-04T07:47:33.936474Z",
          "shell.execute_reply": "2021-10-04T07:47:33.936539Z"
        },
        "trusted": true,
        "colab": {
          "base_uri": "https://localhost:8080/"
        },
        "id": "HBRU-fi-Rljv",
        "outputId": "137db302-2ff1-4324-b5ba-cf59a364264b"
      }
    },
    {
      "cell_type": "code",
      "execution_count": 7,
      "source": [
        "y_pred = modelPolynomial.predict(x_test)\r\n",
        "print(\"Accuracy:\",metrics.accuracy_score(y_test, y_pred))"
      ],
      "outputs": [
        {
          "output_type": "stream",
          "name": "stdout",
          "text": [
            "Accuracy: 0.915\n"
          ]
        }
      ],
      "metadata": {
        "execution": {
          "iopub.status.busy": "2021-10-04T07:47:33.938044Z",
          "iopub.status.idle": "2021-10-04T07:47:33.938514Z",
          "shell.execute_reply.started": "2021-10-04T07:47:33.938328Z",
          "shell.execute_reply": "2021-10-04T07:47:33.938351Z"
        },
        "trusted": true,
        "colab": {
          "base_uri": "https://localhost:8080/"
        },
        "id": "onVByCcFRljz",
        "outputId": "2ae759cc-eab2-4151-952c-e5034d6be5ea"
      }
    },
    {
      "cell_type": "code",
      "execution_count": 8,
      "source": [
        "y_pred = modelRBF.predict(x_test)\r\n",
        "print(\"Accuracy:\",metrics.accuracy_score(y_test, y_pred))"
      ],
      "outputs": [
        {
          "output_type": "stream",
          "name": "stdout",
          "text": [
            "Accuracy: 0.932\n"
          ]
        }
      ],
      "metadata": {
        "execution": {
          "iopub.status.busy": "2021-10-04T07:47:33.940746Z",
          "iopub.status.idle": "2021-10-04T07:47:33.941120Z",
          "shell.execute_reply.started": "2021-10-04T07:47:33.940939Z",
          "shell.execute_reply": "2021-10-04T07:47:33.940961Z"
        },
        "trusted": true,
        "colab": {
          "base_uri": "https://localhost:8080/"
        },
        "id": "Jk8nmCxbRlj0",
        "outputId": "1643a657-2594-4c04-9006-a900c93efed3"
      }
    }
  ]
}